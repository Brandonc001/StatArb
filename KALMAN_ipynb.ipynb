{
  "nbformat": 4,
  "nbformat_minor": 0,
  "metadata": {
    "colab": {
      "name": "KALMAN_ipynb",
      "provenance": [],
      "authorship_tag": "ABX9TyPH7mQ4TtSE+Um5eb5bLS7T",
      "include_colab_link": true
    },
    "kernelspec": {
      "name": "python3",
      "display_name": "Python 3"
    },
    "language_info": {
      "name": "python"
    }
  },
  "cells": [
    {
      "cell_type": "markdown",
      "metadata": {
        "id": "view-in-github",
        "colab_type": "text"
      },
      "source": [
        "<a href=\"https://colab.research.google.com/github/Brandonc001/StatArb/blob/main/KALMAN_ipynb.ipynb\" target=\"_parent\"><img src=\"https://colab.research.google.com/assets/colab-badge.svg\" alt=\"Open In Colab\"/></a>"
      ]
    },
    {
      "cell_type": "code",
      "execution_count": null,
      "metadata": {
        "id": "05bPLcAc5bj_"
      },
      "outputs": [],
      "source": [
        "pip install yfinance"
      ]
    },
    {
      "cell_type": "code",
      "source": [
        "pip install pykalman"
      ],
      "metadata": {
        "id": "7ae5MOc58Cfe"
      },
      "execution_count": null,
      "outputs": []
    },
    {
      "cell_type": "code",
      "source": [
        "import numpy as np\n",
        "import pandas as pd\n",
        "import yfinance as yf\n",
        "import statsmodels.api as sm\n",
        "import scipy.optimize as spop\n",
        "import matplotlib.pyplot as plt\n",
        "import scipy.stats as stats\n",
        "import statsmodels\n",
        "from statsmodels.tsa.stattools import coint\n",
        "from statsmodels.tsa.stattools import coint, adfuller\n",
        "import statsmodels.tsa.stattools as ts \n",
        "from itertools import combinations\n",
        "from statsmodels.api import OLS, add_constant\n",
        "from statsmodels.tsa.stattools import adfuller\n",
        "\n",
        "from statsmodels.tsa.vector_ar.vecm import coint_johansen\n",
        "plt.style.use('dark_background')\n",
        "\n",
        "from pykalman import KalmanFilter"
      ],
      "metadata": {
        "id": "zgv5krs05koh"
      },
      "execution_count": null,
      "outputs": []
    },
    {
      "cell_type": "code",
      "source": [
        "stocklist = ['SPY','MSFT','MMM','AOS','ABT','ABBV','ABMD','ACN']#,'ATVI','ADM','ADBE','AAP','AMD','AES','AFL','A','APD']#,'AKAM','ALB','ALK',\n",
        "#'ARE','ALGN','ALLE','LNT','ALL','GOOG','MO','AMZN']#,'AMCR','AEE','AAL','AEP','AXP','AIG','AMT','AWK','AMP','ABC','AME',\n",
        "#'AMGN','APH','ADI','ANSS','ANTM','AON','APA','AAPL','AMAT']#,'APTV','ANET','AJG','AIZ','T','ATO','ADSK','ADP','AZO','AVB','AVY','BKR','BLL','BAC','BBWI',\n",
        "#'BAX','BDX','BBY','BIO','TECH','BIIB','BLK','BK','BA','BKNG','BWA','BXP','BSX','BMY','AVGO','BR','BRO','CHRW','CDNS','CZR','CPB','COF','CAH','KMX','CCL',\n",
        "#'CTLT','CAT','CBOE','CBRE','CDW','CE','CNC','CNP','CERN','CF','CRL','SCHW','CHTR','CVX','CMG','CB','CHD','CAH','KMX','CCL']\n",
        "\n",
        "####    SECTOR STOCKLIST\n",
        "#stocklist = ['BHP','LIN','RIO','VALE','SHW','FCX','APD','NEM','SCCO','ECL','GOLD','LYB','NUE','DD','IFF','CRH','PPG','ALB',]\n",
        "\n",
        "data1 = yf.download(stocklist , start=\"2016-01-01\", end=\"2022-01-01\")\n",
        "mydata = pd.DataFrame(data = data1)\n",
        "databank = mydata['Adj Close']\n",
        "databank2 = (((mydata['High']+mydata['Low']+mydata['Close']) / 3)*mydata['Volume']).cumsum() / mydata['Volume'].cumsum()\n",
        "#databank2 = ((mydata['High']+mydata['Low']+mydata['Close']) / 3) * mydata['Volume'] / mydata['Volume'].expanding().mean()\n",
        "#databank2 = (((mydata['Adj Close'])*mydata['Volume']).cumsum() / mydata['Volume'].cumsum())"
      ],
      "metadata": {
        "colab": {
          "base_uri": "https://localhost:8080/"
        },
        "id": "kRrzsEw35e_P",
        "outputId": "8f9c61ff-1597-413d-f55b-1da70ac55142"
      },
      "execution_count": null,
      "outputs": [
        {
          "output_type": "stream",
          "name": "stdout",
          "text": [
            "[*********************100%***********************]  8 of 8 completed\n"
          ]
        }
      ]
    },
    {
      "cell_type": "code",
      "source": [
        "list_combinations = list()\n",
        "for n in range(2):\n",
        "    list_combinations += list(combinations(stocklist, 2))\n",
        "\n",
        "for n in range(len(list_combinations)):\n",
        "    new = (databank[list_combinations[n][0]] + databank[list_combinations[n][1]]) / 2\n",
        "    name = list_combinations[n]\n",
        "    databank[str(list(name))] = new\n",
        "\n",
        "databank = databank.iloc[1: , :]\n",
        "\n",
        "\n",
        "for n in range(len(list_combinations)):\n",
        "    new = (databank2[list_combinations[n][0]] + databank2[list_combinations[n][1]]) / 2\n",
        "    name = list_combinations[n]\n",
        "    databank2[str(list(name))] = new\n",
        "\n",
        "list_combinations2 = []\n",
        "distances = {'stock': []}\n",
        "for n in range(2,5):\n",
        "    list_combinations2 += list(combinations(stocklist, n))\n",
        "\n",
        "databank2 = databank2.iloc[1: , :]\n",
        "\n",
        "for i in list_combinations2:\n",
        "    if len(i)==2:\n",
        "        pair1 = i[0]\n",
        "        pair2 = i[1]\n",
        "    elif len(i)==3:\n",
        "        pair1 = i[0]\n",
        "        pair2 = [i[1],i[2]]\n",
        "    elif len(i)==4:\n",
        "        pair1 = [i[0],i[1]]\n",
        "        pair2 = [i[2],i[3]]\n",
        "    pair3 = str(pair1), str(pair2)\n",
        "    distances['stock'].append(pair3)\n",
        "\n",
        "dist_pairs = pd.DataFrame(distances)\n",
        "len(dist_pairs)"
      ],
      "metadata": {
        "colab": {
          "base_uri": "https://localhost:8080/"
        },
        "id": "sHitZLx1kqv4",
        "outputId": "ddaf2f75-219b-4ecd-f5f4-c76cc23e9e5e"
      },
      "execution_count": null,
      "outputs": [
        {
          "output_type": "stream",
          "name": "stderr",
          "text": [
            "/usr/local/lib/python3.7/dist-packages/ipykernel_launcher.py:8: SettingWithCopyWarning: \n",
            "A value is trying to be set on a copy of a slice from a DataFrame.\n",
            "Try using .loc[row_indexer,col_indexer] = value instead\n",
            "\n",
            "See the caveats in the documentation: https://pandas.pydata.org/pandas-docs/stable/user_guide/indexing.html#returning-a-view-versus-a-copy\n",
            "  \n"
          ]
        },
        {
          "output_type": "execute_result",
          "data": {
            "text/plain": [
              "154"
            ]
          },
          "metadata": {},
          "execution_count": 49
        }
      ]
    },
    {
      "cell_type": "code",
      "source": [
        "def get_hurst_exponent(time_series, max_lag=20):\n",
        "    \"\"\"Returns the Hurst Exponent of the time series\"\"\"\n",
        "    lags = range(2, max_lag)\n",
        "    # variances of the lagged differences\n",
        "    tau = [np.std(np.subtract(time_series[lag:], time_series[:-lag])) for lag in lags]\n",
        "    # calculate the slope of the log plot -> the Hurst Exponent\n",
        "    reg = np.polyfit(np.log(lags), np.log(tau), 1)\n",
        "    return reg[0]"
      ],
      "metadata": {
        "id": "UMMT8Dn90hz5"
      },
      "execution_count": null,
      "outputs": []
    },
    {
      "cell_type": "code",
      "source": [
        "window = 50\n",
        "\n",
        "this_many= len(dist_pairs['stock'])\n",
        "\n",
        "pear_data = {'stock1': [],'stock2': [],'Pears': [], 'P_value1': [], 'hurst1': [], 'hurst2': [], 'avg_hurst': []} \n",
        "\n",
        "for i in range(len(dist_pairs['stock'])):\n",
        "    one_data = databank[dist_pairs['stock'].iloc[i][0]][:window]\n",
        "    two_data = databank[dist_pairs['stock'].iloc[i][1]][:window]\n",
        "\n",
        "    coint = ts.coint(one_data, two_data)\n",
        "    p_val = coint[1]\n",
        "\n",
        "    hurst1 = get_hurst_exponent(one_data.values)\n",
        "    hurst2 = get_hurst_exponent(two_data.values)\n",
        "    avg_hurst = (hurst1+hurst2 )/ 2\n",
        "\n",
        "\n",
        "    if dist_pairs['stock'].iloc[i] not in pear_data['Pears'] and hurst1<.45 and hurst2<.45:\n",
        "\n",
        "        pear_data['stock1'].append(dist_pairs['stock'].iloc[i][0])\n",
        "        pear_data['stock2'].append(dist_pairs['stock'].iloc[i][1])\n",
        "        pear_data['Pears'].append(dist_pairs['stock'].iloc[i])\n",
        "        pear_data['hurst1'].append(hurst1)\n",
        "        pear_data['hurst2'].append(hurst2)\n",
        "        pear_data['P_value1'].append(p_val)\n",
        "        pear_data['avg_hurst'].append(avg_hurst)\n",
        "\n",
        "        #data_zvalues[str(dist_pairs['stock'].iloc[i])] = zvalue\n",
        "\n",
        "    this_many-=1\n",
        "    #print(this_many)\n",
        "            \n",
        "pair_df2 = pd.DataFrame(pear_data)"
      ],
      "metadata": {
        "id": "gcJ6fKXh9Ir7"
      },
      "execution_count": null,
      "outputs": []
    },
    {
      "cell_type": "code",
      "source": [
        "pair_df2 = pd.DataFrame(pear_data)\n",
        "tradable_pairs = pair_df2[pair_df2['P_value1'] < 0.05].sort_values('P_value1')\n",
        "new_dataset = pd.DataFrame()\n",
        "for i in tradable_pairs['Pears']:\n",
        "    #print(i[0])\n",
        "    new_dataset[i[0]] = (databank[i[0]])#.plot(figsize=(20,10))\n",
        "    new_dataset[i[1]] = (databank[i[1]])\n",
        "#new_dataset.plot(figsize=(20,10))"
      ],
      "metadata": {
        "id": "yvpe65z75iU8"
      },
      "execution_count": null,
      "outputs": []
    },
    {
      "cell_type": "code",
      "source": [
        ""
      ],
      "metadata": {
        "id": "bLEUoSefnzJs"
      },
      "execution_count": null,
      "outputs": []
    },
    {
      "cell_type": "code",
      "source": [
        "def kal_spread(one, two):\n",
        "    obs_mat = sm.add_constant(np.log(one).values, prepend=False)[:, np.newaxis]\n",
        "    trans_cov = 1e-5 / (1 - 1e-5) * np.eye(2)\n",
        "\n",
        "    kf = KalmanFilter(n_dim_obs=1, n_dim_state=2, \n",
        "                    initial_state_mean=np.ones(2),\n",
        "                    initial_state_covariance=np.ones((2, 2)),\n",
        "                    transition_matrices=np.eye(2),\n",
        "                    observation_matrices=obs_mat,\n",
        "                    observation_covariance=.5,\n",
        "                    transition_covariance=0.000001 * np.eye(2))\n",
        "    state_means, state_covs = kf.filter(np.log(two).values)\n",
        "    slope=state_means[:, 0] \n",
        "    intercept=state_means[:, 1]\n",
        "    kl_spread = np.log(two) - np.log(one) * state_means[:,0] - state_means[:,1]\n",
        "    return kl_spread"
      ],
      "metadata": {
        "id": "KFIuMJzD8LvB"
      },
      "execution_count": null,
      "outputs": []
    },
    {
      "cell_type": "code",
      "source": [
        "def backtest(i, window1):\n",
        "    \n",
        "\n",
        "    window = window1\n",
        "    this_many = (len(databank)-window)\n",
        "\n",
        "    positions = {tradable_pairs['Pears'].iloc[i]: []}\n",
        "\n",
        "    cum_pnl = []\n",
        "    cum_open_pnl = []\n",
        "    cum_account = [0]\n",
        "    #num_trades = 0\n",
        "    pnl = 0\n",
        "    duration = None\n",
        "    pp1 = []\n",
        "    pp2 = []\n",
        "    pp3 = []\n",
        "    z_coll = []\n",
        "    \n",
        "    account_size = 0\n",
        "\n",
        "    for t in range(window, len(databank)): \n",
        "    \n",
        "        open_pnl = 0\n",
        "\n",
        "        stock1 = databank[tradable_pairs.iloc[i][0]][t-window:t]\n",
        "        stock2 = databank[tradable_pairs.iloc[i][1]][t-window:t]\n",
        "\n",
        "        static1 = databank[tradable_pairs.iloc[i][0]][0:t]\n",
        "        static2 = databank[tradable_pairs.iloc[i][1]][0:t]\n",
        "\n",
        "        #vwap1 = databank2[tradable_pairs.iloc[i][0]][t-window:t]\n",
        "        #vwap2 = databank2[tradable_pairs.iloc[i][1]][t-window:t]\n",
        "\n",
        "        coint = ts.coint(np.log(stock1), np.log(stock2))\n",
        "        p_val = coint[1]\n",
        "        #run_find = find_z(np.log(vwap1), np.log(vwap2))  #run_find = find_z(np.log(stock1), np.log(stock2))\n",
        "        #zvalue = run_find[0] *(-1)\n",
        "        #gamma = run_find[1]\n",
        "        #std = zvalue.std()\n",
        "\n",
        "        zvalue = kal_spread(stock1, stock2)\n",
        "        z_static = kal_spread(static1, static2)\n",
        "\n",
        "        #std = zvalue.std()\n",
        "        std = z_static.std()\n",
        "\n",
        "        #state_means = KalmanFilterRegression(KalmanFilterAverage(np.log(stock1)),KalmanFilterAverage(np.log(stock2)))\n",
        "        #hr = - state_means[:,0]\n",
        "        #spread = stock2 + (hr*stock1)\n",
        "        \n",
        "        #new_stock1 = -hr*stock1   ##### SOME NEW SHIT TO TRY OUT\n",
        "        #new_stock1 = stock1*gamma\n",
        "        #new_stock2 = stock2 \n",
        "        #p_val = adfuller(new_stock1-stock2)[1]\n",
        "\n",
        "        #df1 = pd.DataFrame()\n",
        "        #df1['spread'] = spread\n",
        "        #halflife = half_life(df1['spread'])\n",
        "\n",
        "        # calculate z-score with window = half life period\n",
        "        #meanSpread = df1.spread.rolling(window=halflife).mean()\n",
        "        #stdSpread = df1.spread.rolling(window=halflife).std()\n",
        "        #df1['zScore'] = (df1.spread-meanSpread)/stdSpread\n",
        "\n",
        "        #zvalue = df1['zScore']                                                      #  LOW z-  short stock1, buy stock2\n",
        "        #std = df1['zScore'].std()\n",
        "        \n",
        "                                                                                    #  HIGH Z- buy stock1, short stock2\n",
        "\n",
        "        \n",
        "        ####TRADING PARAMETERS#############\n",
        "        if p_val < 0.15:\n",
        "        # print(p_val)\n",
        "            if  zvalue[-1] < (-1.25*std) and positions[tradable_pairs['Pears'].iloc[i]] == []: # (-1)\n",
        "                if positions[tradable_pairs['Pears'].iloc[i]] == []: #checks to see if we have an open position\n",
        "                    size_stock1 = 10000//stock1[-1]\n",
        "                    size_stock2 = 10000//stock2[-1]\n",
        "                    \n",
        "                    order_stock1 = (stock1[-1] * size_stock1*(-1))\n",
        "                    order_stock2 = (stock2[-1] * size_stock2)\n",
        "\n",
        "                    account_size+= (order_stock1*(-1) + order_stock2)\n",
        "\n",
        "                    positions[tradable_pairs['Pears'].iloc[i]].append(order_stock1)   #adding stock1 current price\n",
        "                    positions[tradable_pairs['Pears'].iloc[i]].append(order_stock2)   #adding stock2 current price\n",
        "                    positions[tradable_pairs['Pears'].iloc[i]].append(size_stock1)   #add the original hedge_ratio since it changes with time, use this to calc pnl\n",
        "                    positions[tradable_pairs['Pears'].iloc[i]].append(size_stock2) \n",
        "                    positions[tradable_pairs['Pears'].iloc[i]].append(-1)    #designates the position as (-stock1, +stock2)\n",
        "                    duration = 444\n",
        "\n",
        "            if zvalue[-1] > (1.25*std) and positions[tradable_pairs['Pears'].iloc[i]] == []: #buy stock1, short stock2 (+1)\n",
        "                if positions[tradable_pairs['Pears'].iloc[i]] == []: #checks to see if we have an open position\n",
        "                    size_stock1 = 10000//stock1[-1]\n",
        "                    size_stock2 = 10000//stock2[-1]\n",
        "                    \n",
        "                    order_stock1 = (stock1[-1] * size_stock1)\n",
        "                    order_stock2 = (stock2[-1] * size_stock2*(-1))\n",
        "\n",
        "                    account_size += ((order_stock2*(-1)) + order_stock1)\n",
        "                    \n",
        "                    positions[tradable_pairs['Pears'].iloc[i]].append(order_stock1) #0\n",
        "                    positions[tradable_pairs['Pears'].iloc[i]].append(order_stock2) #1\n",
        "                    positions[tradable_pairs['Pears'].iloc[i]].append(size_stock1)  #2\n",
        "                    positions[tradable_pairs['Pears'].iloc[i]].append(size_stock2)  #3\n",
        "                    positions[tradable_pairs['Pears'].iloc[i]].append(1)            #4\n",
        "                    duration = 444\n",
        "                    #print(positions[tradable_pairs['Pears'].iloc[i])])\n",
        "        #####CLOSING POSITIONS######\n",
        "        if open_pnl>10000 and len(positions[tradable_pairs['Pears'].iloc[i]]) >1 or zvalue[-1] > (0.0025*std) and len(positions[tradable_pairs['Pears'].iloc[i]]) >1 or duration==0 and len(positions[tradable_pairs['Pears'].iloc[i]]) >1 :\n",
        "            #close the position\n",
        "            if positions[tradable_pairs['Pears'].iloc[i]][4] == -1:\n",
        "                open_pos = positions[tradable_pairs['Pears'].iloc[i]] #this is all our open position data\n",
        "                positions[tradable_pairs['Pears'].iloc[i]] = []\n",
        "                open_pnl = 0\n",
        "\n",
        "                delta_stock1 = (((-1)*open_pos[0]) - ((stock1[-1]*open_pos[2])))\n",
        "                delta_stock2 = ((stock2[-1]*open_pos[3]) - open_pos[1]) \n",
        "\n",
        "                pnl+=(delta_stock1 + delta_stock2) #update pnl\n",
        "                account_size-= ((open_pos[0]*(-1)) + open_pos[1])\n",
        "\n",
        "        #####CLOSING POSITIONS   222222 ######\n",
        "        if open_pnl>10000 and len(positions[tradable_pairs['Pears'].iloc[i]]) >1 or zvalue[-1] < (-0.0025*std) and len(positions[tradable_pairs['Pears'].iloc[i]]) >1 or duration==0 and len(positions[tradable_pairs['Pears'].iloc[i]]) >1 :\n",
        "            #close the position\n",
        "            if positions[tradable_pairs['Pears'].iloc[i]][4] == 1:\n",
        "                open_pos = positions[tradable_pairs['Pears'].iloc[i]] #this is all our open position data\n",
        "                positions[tradable_pairs['Pears'].iloc[i]] = []\n",
        "                open_pnl = 0\n",
        "                \n",
        "                delta_stock1 = ((stock1[-1]*open_pos[2]) - open_pos[0] )\n",
        "                delta_stock2 = (((-1)*open_pos[1]) - (open_pos[3]*stock2[-1]))\n",
        "\n",
        "                pnl+=(delta_stock1 + delta_stock2)\n",
        "                account_size-= (open_pos[0] + open_pos[1]*(-1))\n",
        "\n",
        "        if len(positions[tradable_pairs['Pears'].iloc[i]]) > 1 and duration!=0:\n",
        "            open_pos = positions[tradable_pairs['Pears'].iloc[i]]\n",
        "\n",
        "            if open_pos[4] == -1:  #tells us (-stock1, +stock2)\n",
        "\n",
        "                delta_stock1 = (((-1)*open_pos[0]) - ((stock1[-1]*open_pos[2]))) #closes short position by buying 100 shares to close\n",
        "                delta_stock2 = ((stock2[-1]*open_pos[3]) - open_pos[1]) #closes long position\n",
        "\n",
        "                open_pnl+=(delta_stock1 + delta_stock2) #update pnl\n",
        "            elif open_pos[4] == 1:\n",
        "                delta_stock1 = ((stock1[-1]*open_pos[2]) - open_pos[0] )\n",
        "                delta_stock2 = (((-1)*open_pos[1]) - (open_pos[3]*stock2[-1])) \n",
        "\n",
        "                open_pnl+=(delta_stock1 + delta_stock2)\n",
        "            duration-=1\n",
        "            #print(halflife)\n",
        "        cum_pnl.append(pnl)\n",
        "        cum_account.append(account_size)\n",
        "        cum_open_pnl.append(open_pnl)\n",
        "        this_many-=1\n",
        "        pp1.append(p_val)\n",
        "        #pp2.append(p_val2)\n",
        "        #pp3.append(p_val3)\n",
        "        z_coll.append(zvalue[-1])\n",
        "        #print(positions[tradable_pairs['Pears'].iloc[i]])\n",
        "        #if this_many%20==0:\n",
        "            #print(this_many)\n",
        "        #print(std)\n",
        "        #plt.plot(zvalue)\n",
        "        #plt.plot(pp2[:200])\n",
        "        #plt.plot(pp3)\n",
        "    print(i)\n",
        "        #print(len(zvalue))\n",
        "    return cum_pnl, cum_open_pnl, cum_account, zvalue, z_coll\n",
        "\n"
      ],
      "metadata": {
        "id": "62o_Jv3CukSt"
      },
      "execution_count": null,
      "outputs": []
    },
    {
      "cell_type": "code",
      "source": [
        "window1 = 50   ##int(len(databank)*0.2)\n",
        "all_returns = []\n",
        "results = pd.DataFrame()\n",
        "for num in range(0, 2):\n",
        "    rets = backtest(num, window1)[0]\n",
        "    all_returns.append(rets)\n",
        "    results[tradable_pairs['Pears'].iloc[num]] = rets  #####   EXCLUDES WINDOW DATA\n",
        "results.plot(figsize=(20,10))"
      ],
      "metadata": {
        "colab": {
          "base_uri": "https://localhost:8080/"
        },
        "id": "TVSKds1eukWW",
        "outputId": "ec25033a-3917-4e6f-8d2d-6cb1b62d302b"
      },
      "execution_count": null,
      "outputs": [
        {
          "output_type": "stream",
          "name": "stdout",
          "text": [
            "0\n",
            "1\n"
          ]
        },
        {
          "output_type": "execute_result",
          "data": {
            "text/plain": [
              "<matplotlib.axes._subplots.AxesSubplot at 0x7f763dea7e90>"
            ]
          },
          "metadata": {},
          "execution_count": 210
        },
        {
          "output_type": "display_data",
          "data": {
            "text/plain": [
              "<Figure size 1440x720 with 1 Axes>"
            ],
            "image/png": "[encoded data removed]"
          },
          "metadata": {}
        }
      ]
    },
    {
      "cell_type": "code",
      "source": [
        "results_df = results.sum(axis=1)\n",
        "results_df.plot(figsize=(20,5))  "
      ],
      "metadata": {
        "colab": {
          "base_uri": "https://localhost:8080/"
        },
        "id": "tKsCNVFM20SD",
        "outputId": "1f007409-ee24-414d-d5f4-158edbac1a8f"
      },
      "execution_count": null,
      "outputs": [
        {
          "output_type": "execute_result",
          "data": {
            "text/plain": [
              "<matplotlib.axes._subplots.AxesSubplot at 0x7f763cfbb890>"
            ]
          },
          "metadata": {},
          "execution_count": 211
        },
        {
          "output_type": "display_data",
          "data": {
            "text/plain": [
              "<Figure size 1440x360 with 1 Axes>"
            ],
            "image/png": "[encoded data removed]"
          },
          "metadata": {}
        }
      ]
    },
    {
      "cell_type": "code",
      "source": [
        ""
      ],
      "metadata": {
        "id": "ilMrD8tu4ZZC"
      },
      "execution_count": null,
      "outputs": []
    },
    {
      "cell_type": "code",
      "source": [
        "stock1 = databank[tradable_pairs.iloc[4][0]][10:300]\n",
        "stock2 = databank[tradable_pairs.iloc[4][1]][10:300]\n",
        "\n",
        "\n",
        "zvalue = kal_spread(stock1, stock2)\n",
        "std = zvalue.std()\n",
        "std"
      ],
      "metadata": {
        "colab": {
          "base_uri": "https://localhost:8080/"
        },
        "id": "7qebqzNf-T1n",
        "outputId": "afef4bf5-647c-48aa-cd5d-eaaa52ac738f"
      },
      "execution_count": null,
      "outputs": [
        {
          "output_type": "execute_result",
          "data": {
            "text/plain": [
              "0.06743640394698494"
            ]
          },
          "metadata": {},
          "execution_count": 206
        }
      ]
    },
    {
      "cell_type": "code",
      "source": [
        "plt.plot(zvalue)"
      ],
      "metadata": {
        "colab": {
          "base_uri": "https://localhost:8080/",
          "height": 283
        },
        "id": "XhVpxWtP-T4u",
        "outputId": "f1c90917-75a5-4127-9348-e4302453238c"
      },
      "execution_count": null,
      "outputs": [
        {
          "output_type": "execute_result",
          "data": {
            "text/plain": [
              "[<matplotlib.lines.Line2D at 0x7f763d1bb9d0>]"
            ]
          },
          "metadata": {},
          "execution_count": 207
        },
        {
          "output_type": "display_data",
          "data": {
            "text/plain": [
              "<Figure size 432x288 with 1 Axes>"
            ],
            "image/png": "[encoded data removed]"
          },
          "metadata": {}
        }
      ]
    },
    {
      "cell_type": "code",
      "source": [
        "plt.plot(stock1)\n",
        "plt.plot(stock2)"
      ],
      "metadata": {
        "colab": {
          "base_uri": "https://localhost:8080/",
          "height": 283
        },
        "id": "7Kn4b1m7-t7i",
        "outputId": "810a97a0-b36e-4466-aac1-e344b6adf0be"
      },
      "execution_count": null,
      "outputs": [
        {
          "output_type": "execute_result",
          "data": {
            "text/plain": [
              "[<matplotlib.lines.Line2D at 0x7f763d082610>]"
            ]
          },
          "metadata": {},
          "execution_count": 208
        },
        {
          "output_type": "display_data",
          "data": {
            "text/plain": [
              "<Figure size 432x288 with 1 Axes>"
            ],
            "image/png": "[encoded data removed]"
          },
          "metadata": {}
        }
      ]
    },
    {
      "cell_type": "code",
      "source": [
        "self.Securities[self.stock].Invested\n",
        "\n"
      ],
      "metadata": {
        "id": "YRRHAe-RJ7Xp"
      },
      "execution_count": null,
      "outputs": []
    }
  ]
}